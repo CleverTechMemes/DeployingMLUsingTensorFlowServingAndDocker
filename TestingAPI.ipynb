{
 "cells": [
  {
   "cell_type": "code",
   "execution_count": 28,
   "metadata": {},
   "outputs": [],
   "source": [
    "import requests\n",
    "import json"
   ]
  },
  {
   "cell_type": "code",
   "execution_count": 39,
   "metadata": {},
   "outputs": [
    {
     "name": "stdout",
     "output_type": "stream",
     "text": [
      "{'predictions': [[15.8185673]]}\n"
     ]
    }
   ],
   "source": [
    "\n",
    "data ={\"instances\": [[8.0,390.0,190, 3850.0,8.5, 70.0, 0.0,0.0,1.0]]}\n",
    "\n",
    "data_json = json.dumps(data)\n",
    "\n",
    "url = \"http://localhost:8501/v1/models/saved_model/labels/stable:predict\"\n",
    "\n",
    "headers = {\"content-type\":\"application/json\"}\n",
    "\n",
    "json_response = requests.post(url, data = data_json, headers = headers)\n",
    "\n",
    "print(json_response.json())\n"
   ]
  },
  {
   "cell_type": "code",
   "execution_count": null,
   "metadata": {},
   "outputs": [],
   "source": []
  },
  {
   "cell_type": "code",
   "execution_count": null,
   "metadata": {},
   "outputs": [],
   "source": []
  }
 ],
 "metadata": {
  "kernelspec": {
   "display_name": "Python 3",
   "language": "python",
   "name": "python3"
  },
  "language_info": {
   "codemirror_mode": {
    "name": "ipython",
    "version": 3
   },
   "file_extension": ".py",
   "mimetype": "text/x-python",
   "name": "python",
   "nbconvert_exporter": "python",
   "pygments_lexer": "ipython3",
   "version": "3.8.5"
  }
 },
 "nbformat": 4,
 "nbformat_minor": 4
}
